{
 "cells": [
  {
   "cell_type": "markdown",
   "id": "28cd9f01",
   "metadata": {},
   "source": [
    "# Summer Olympics Data Analysis"
   ]
  },
  {
   "cell_type": "code",
   "execution_count": null,
   "id": "970b93bb",
   "metadata": {},
   "outputs": [],
   "source": [
    "import pandas as pd\n",
    "import numpy as np\n",
    "import matplotlib.pyplot as plt\n",
    "import seaborn as sns"
   ]
  },
  {
   "cell_type": "code",
   "execution_count": null,
   "id": "fb1523f8",
   "metadata": {
    "scrolled": true
   },
   "outputs": [],
   "source": [
    "df = pd.read_csv(\"summer.csv\")\n",
    "df"
   ]
  },
  {
   "cell_type": "markdown",
   "id": "69399855",
   "metadata": {},
   "source": [
    "## Data Visualization of the dataset given"
   ]
  },
  {
   "cell_type": "code",
   "execution_count": null,
   "id": "827f9243",
   "metadata": {},
   "outputs": [],
   "source": [
    "# Set the aesthetic style of the plots\n",
    "sns.set(style=\"whitegrid\")\n",
    "\n",
    "# Create a bar plot of the number of medals by country\n",
    "plt.figure(figsize=(14, 7))\n",
    "sns.countplot(y='Country', data=df, order=df['Country'].value_counts().index)\n",
    "plt.title('Number of Medals by Country')\n",
    "plt.show()\n",
    "\n",
    "# Create a distribution plot for the Age of athletes\n",
    "plt.figure(figsize=(10, 6))\n",
    "sns.histplot(df['Age'].dropna(), kde=True)\n",
    "plt.title('Distribution of Age of Athletes')\n",
    "plt.show()\n",
    "\n",
    "# Create a box plot for Age of athletes by Gender\n",
    "plt.figure(figsize=(10, 6))\n",
    "sns.boxplot(x='Gender', y='Age', data=df)\n",
    "plt.title('Age Distribution by Gender')\n",
    "plt.show()\n",
    "\n",
    "# Create a count plot for the number of medals by sport\n",
    "plt.figure(figsize=(14, 7))\n",
    "sns.countplot(y='Sport', data=df, order=df['Sport'].value_counts().index)\n",
    "plt.title('Number of Medals by Sport')\n",
    "plt.show()"
   ]
  },
  {
   "cell_type": "code",
   "execution_count": null,
   "id": "9c1fd1e9",
   "metadata": {},
   "outputs": [],
   "source": [
    "df.info()"
   ]
  },
  {
   "cell_type": "code",
   "execution_count": null,
   "id": "42be64e2",
   "metadata": {
    "scrolled": true
   },
   "outputs": [],
   "source": [
    "df.describe()"
   ]
  },
  {
   "cell_type": "code",
   "execution_count": null,
   "id": "f1db301e",
   "metadata": {},
   "outputs": [],
   "source": [
    "# Last 10 Data entries of our dataset\n",
    "\n",
    "df.head(10)"
   ]
  },
  {
   "cell_type": "code",
   "execution_count": null,
   "id": "8cba0025",
   "metadata": {},
   "outputs": [],
   "source": [
    "# Last 10 Data entries\n",
    "\n",
    "df.tail(10)"
   ]
  },
  {
   "cell_type": "code",
   "execution_count": null,
   "id": "f4e5477d",
   "metadata": {},
   "outputs": [],
   "source": [
    "# Check for missing values\n",
    "df.isnull().sum()"
   ]
  },
  {
   "cell_type": "code",
   "execution_count": null,
   "id": "919ab842",
   "metadata": {},
   "outputs": [],
   "source": [
    "# Handle missing values (if any)\n",
    "df = df.fillna(method='ffill')"
   ]
  },
  {
   "cell_type": "markdown",
   "id": "d9dbfc37",
   "metadata": {},
   "source": [
    "## Data Visualization of whole dataset"
   ]
  },
  {
   "cell_type": "code",
   "execution_count": null,
   "id": "0a54658f",
   "metadata": {},
   "outputs": [],
   "source": [
    "# Set the aesthetic style of the plots\n",
    "sns.set(style=\"whitegrid\")\n",
    "\n",
    "# Create a bar plot of the number of medals by country\n",
    "plt.figure(figsize=(14, 7))\n",
    "sns.countplot(y='Country', data=df, order=df['Country'].value_counts().index)\n",
    "plt.title('Number of Medals by Country')\n",
    "plt.show()\n",
    "\n",
    "# Create a distribution plot for the Age of athletes\n",
    "plt.figure(figsize=(10, 6))\n",
    "sns.histplot(df['Age'].dropna(), kde=True)\n",
    "plt.title('Distribution of Age of Athletes')\n",
    "plt.show()\n",
    "\n",
    "# Create a box plot for Age of athletes by Gender\n",
    "plt.figure(figsize=(10, 6))\n",
    "sns.boxplot(x='Gender', y='Age', data=df)\n",
    "plt.title('Age Distribution by Gender')\n",
    "plt.show()\n",
    "\n",
    "# Create a count plot for the number of medals by sport\n",
    "plt.figure(figsize=(14, 7))\n",
    "sns.countplot(y='Sport', data=df, order=df['Sport'].value_counts().index)\n",
    "plt.title('Number of Medals by Sport')\n",
    "plt.show()"
   ]
  },
  {
   "cell_type": "markdown",
   "id": "11a36136",
   "metadata": {},
   "source": [
    "## 1. In how many cities Summer Olympics is held so far?"
   ]
  },
  {
   "cell_type": "code",
   "execution_count": null,
   "id": "5a78cba5",
   "metadata": {},
   "outputs": [],
   "source": [
    "cities = df[\"City\"].unique() #unique cities in an array\n",
    "no_of_cities = len(cities)\n",
    "print(\"In {} cities summmer olympics is held so far\".format(no_of_cities))"
   ]
  },
  {
   "cell_type": "markdown",
   "id": "719d36a1",
   "metadata": {},
   "source": [
    "## 2. Which sport is having most number of Gold Medals so far? (Top 5)"
   ]
  },
  {
   "cell_type": "code",
   "execution_count": null,
   "id": "559802a4",
   "metadata": {},
   "outputs": [],
   "source": [
    "top5_sports_gold_medals = []\n",
    "\n",
    "# Iterate through each unique sport to count the number of Gold medals\n",
    "for sport in df[\"Sport\"].unique() :\n",
    "    df = df[df[\"Sport\"] == sport]\n",
    "    top5_sports_gold_medals.append([sport,len(df[df[\"Medal\"] == \"Gold\"])]) \n",
    "    df = pd.read_csv(\"summer.csv\")\n",
    "\n",
    "# Create a DataFrame from the list\n",
    "top5_sports_gold_medals = pd.DataFrame(top5_sports_gold_medals , columns = [\"Sport\" , \"No of Gold Medals\"])\n",
    "\n",
    "# Sort the DataFrame to get the top 5 sports with the least Gold medals\n",
    "top5_sports_gold_medals = top5_sports_gold_medals.sort_values(by = \"No of Gold Medals\",ascending = False).head()\n",
    "\n",
    "print(\"The sport with highest number of gold medals\\n\", top5_sports_gold_medals)\n",
    "\n",
    "top5_sports_gold_medals = top5_sports_gold_medals.plot(x = \"Sport\",y = \"No of Gold Medals\",\n",
    "                                                        kind = \"bar\",figsize = (10,5),color = \"red\") "
   ]
  },
  {
   "cell_type": "markdown",
   "id": "ab03ba2d",
   "metadata": {},
   "source": [
    "## 3. Which sport is having least number of Bronze Medals so far?"
   ]
  },
  {
   "cell_type": "code",
   "execution_count": null,
   "id": "0fee9ea0",
   "metadata": {},
   "outputs": [],
   "source": [
    "sports_bronze_medals = []\n",
    "\n",
    "for sport in df[\"Sport\"].unique():\n",
    "    sport_df = df[df[\"Sport\"] == sport]\n",
    "    bronze_count = len(sport_df[sport_df[\"Medal\"] == \"Bronze\"])\n",
    "    sports_bronze_medals.append([sport, bronze_count])\n",
    "\n",
    "sports_bronze_medals_df = pd.DataFrame(sports_bronze_medals, columns=[\"Sport\", \"No of Bronze Medals\"])\n",
    "\n",
    "sports_bronze_medals_df = sports_bronze_medals_df.sort_values(by=\"No of Bronze Medals\", \n",
    "                                                                            ascending=True).head(5)\n",
    "\n",
    "print(\"Top Sport with Least Bronze Medals:\\n\", sports_bronze_medals_df)"
   ]
  },
  {
   "cell_type": "markdown",
   "id": "ef9bfca6",
   "metadata": {},
   "source": [
    "## 4. Which sport is having highest number of medals so far? (Top 5)"
   ]
  },
  {
   "cell_type": "code",
   "execution_count": null,
   "id": "f17a93ae",
   "metadata": {},
   "outputs": [],
   "source": [
    "top5_sports_medal = []\n",
    "\n",
    "for sport in df[\"Sport\"].unique() :\n",
    "    df = df[df[\"Sport\"] == sport]\n",
    "    top5_sports_medal.append([sport, len(df[df[\"Sport\"] == sport])])\n",
    "    df = pd.read_csv(\"summer.csv\")\n",
    "top5_sports_medal = pd.DataFrame(top5_sports_medal , columns = [\"Sport\" , \"No of Medals\"]) \n",
    "top5_sports_medal = top5_sports_medal.sort_values(by = \"No of Medals\",ascending = False).head()\n",
    "\n",
    "print(\"The sport with highest number of medals\\n\", top5_sports_medal)\n",
    "\n",
    "top5_sports_medal = top5_sports_medal.plot(x = \"Sport\",y = \"No of Medals\",kind = \"bar\",figsize = (10,5))"
   ]
  },
  {
   "cell_type": "markdown",
   "id": "81e251ae",
   "metadata": {},
   "source": [
    " ## 5. Which country has won the most medals in the Summer Olympics? (Top 5)"
   ]
  },
  {
   "cell_type": "code",
   "execution_count": null,
   "id": "674116a2",
   "metadata": {},
   "outputs": [],
   "source": [
    "top5_countries_medals = df['Country'].value_counts().head(5)\n",
    "\n",
    "print(\"Top 5 Countries with Most Medals:\\n\", top5_countries_medals)\n",
    "\n",
    "# Plotting the data\n",
    "plt.figure(figsize=(10, 6))\n",
    "sns.barplot(x=top5_countries_medals.values, y=top5_countries_medals.index, hue=top5_countries_medals.index, palette='viridis', dodge=False, legend=False)\n",
    "plt.title('Top 5 Countries with Most Medals')\n",
    "plt.xlabel('Number of Medals')\n",
    "plt.ylabel('Country')\n",
    "plt.show()"
   ]
  },
  {
   "cell_type": "markdown",
   "id": "c1654195",
   "metadata": {},
   "source": [
    "## 6. Who are the top 5 athletes with the most medals in the Summer Olympics?"
   ]
  },
  {
   "cell_type": "code",
   "execution_count": null,
   "id": "a307e6ab",
   "metadata": {},
   "outputs": [],
   "source": [
    "top5_athletes_medals = df['Athlete'].value_counts().head(5)\n",
    "\n",
    "print(\"Top 5 Athletes with Most Medals:\\n\", top5_athletes_medals)\n",
    "\n",
    "# Plotting the data\n",
    "plt.figure(figsize=(10, 6))\n",
    "sns.barplot(x=top5_athletes_medals.values, y=top5_athletes_medals.index, hue=top5_athletes_medals.index, palette='viridis', dodge=False, legend=False)\n",
    "plt.title('Top 5 Athletes with Most Medals')\n",
    "plt.xlabel('Number of Medals')\n",
    "plt.ylabel('Athlete')\n",
    "plt.show()"
   ]
  },
  {
   "cell_type": "markdown",
   "id": "f02aa923",
   "metadata": {},
   "source": [
    "## 7: Which athlete has won the most Silver Medals in the Summer Olympics? (Top 5)"
   ]
  },
  {
   "cell_type": "code",
   "execution_count": null,
   "id": "ab0707a3",
   "metadata": {},
   "outputs": [],
   "source": [
    "top5_athletes_silver_medals = []\n",
    "\n",
    "for athlete in df[\"Athlete\"].unique():\n",
    "    athlete_df = df[df[\"Athlete\"] == athlete]\n",
    "    silver_count = len(athlete_df[athlete_df[\"Medal\"] == \"Silver\"])\n",
    "    top5_athletes_silver_medals.append([athlete, silver_count])\n",
    "\n",
    "top5_athletes_silver_medals_df = pd.DataFrame(top5_athletes_silver_medals, columns=[\"Athlete\", \"No of Silver Medals\"])\n",
    "\n",
    "top5_athletes_silver_medals_df = top5_athletes_silver_medals_df.sort_values(by=\"No of Silver Medals\", ascending=False).head(5)\n",
    "\n",
    "print(\"Top 5 Athletes with Most Silver Medals:\\n\", top5_athletes_silver_medals_df)\n",
    "\n",
    "plt.figure(figsize=(10, 5))\n",
    "plt.bar(top5_athletes_silver_medals_df['Athlete'], top5_athletes_silver_medals_df['No of Silver Medals'], \n",
    "            color='pink')\n",
    "plt.title('Top 5 Athletes with Most Silver Medals')\n",
    "plt.xlabel('Number of Silver Medals')\n",
    "plt.ylabel('Athlete')\n",
    "plt.show()"
   ]
  },
  {
   "cell_type": "markdown",
   "id": "146aae64",
   "metadata": {},
   "source": [
    "## 8. Which event is most popular in terms on number of players? (Top 5)"
   ]
  },
  {
   "cell_type": "code",
   "execution_count": null,
   "id": "99b7544d",
   "metadata": {},
   "outputs": [],
   "source": [
    "top5_events = []\n",
    "for event in df[\"Event\"].unique() :\n",
    "    top5_events.append([event , len(df[df[\"Event\"] == event])])\n",
    "top5_events = pd.DataFrame(top5_events , columns = [\"Event\" , \"No of Players\"]).sort_values(by = \"No of Players\" , ascending = False).head()\n",
    "print(\"Top 5 Most Popular Events in Terms of Number of Players:\\n\", top5_events)\n",
    "\n",
    "top5_events.plot(x=\"Event\", y=\"No of Players\", color=\"green\", kind=\"barh\", figsize=(10, 5), legend=False)\n",
    "plt.title('Top 5 Most Popular Events in Terms of Number of Players')\n",
    "plt.xlabel('Number of Players')\n",
    "plt.ylabel('Event')\n",
    "plt.show()"
   ]
  },
  {
   "cell_type": "markdown",
   "id": "fc83806f",
   "metadata": {},
   "source": [
    "## 9. In which year India won first Gold Medal in Summer Olympics?"
   ]
  },
  {
   "cell_type": "code",
   "execution_count": null,
   "id": "13e483a2",
   "metadata": {},
   "outputs": [],
   "source": [
    "india_gold_medals = df[(df['Country'] == 'India') & (df['Medal'] == 'Gold')]\n",
    "\n",
    "first_gold_year = india_gold_medals['Year'].min()\n",
    "\n",
    "print(\"India won its first Gold Medal in the Summer Olympics in the year:\", first_gold_year)"
   ]
  },
  {
   "cell_type": "markdown",
   "id": "992a30e9",
   "metadata": {},
   "source": [
    "## 10. Which sport is having most female Gold Medalists? Also give the count of that gold medals"
   ]
  },
  {
   "cell_type": "code",
   "execution_count": null,
   "id": "6a053a43",
   "metadata": {},
   "outputs": [],
   "source": [
    "data = []\n",
    "\n",
    "for sport in df[\"Sport\"].unique() :\n",
    "    player_df = df[df[\"Sport\"] == sport]\n",
    "    female_df = player_df[player_df[\"Gender\"] == \"Women\"]\n",
    "    gold_medal_df = female_df[female_df[\"Medal\"] == \"Gold\"]\n",
    "\n",
    "print(\"The sport which is having most female Gold Medals is:\", sport)\n",
    "print(\"The\", sport, \"has total female Gold Medals equal to:\", len(gold_medal_df))"
   ]
  },
  {
   "cell_type": "markdown",
   "id": "e52a8492",
   "metadata": {},
   "source": [
    "## 11. Show distribution of Gold Medals"
   ]
  },
  {
   "cell_type": "code",
   "execution_count": null,
   "id": "08fca5e5",
   "metadata": {},
   "outputs": [],
   "source": [
    "medal_counts = df.groupby(['Sport', 'Medal']).size().reset_index(name='Count')\n",
    "\n",
    "view_medal_dist = medal_counts.pivot(index='Sport', columns='Medal', values='Count').fillna(0)\n",
    "\n",
    "print(view_medal_dist.head())\n",
    "\n",
    "columns_to_plot = ['Gold', 'Silver', 'Bronze']\n",
    "missing_columns = [col for col in columns_to_plot if col not in view_medal_dist.columns]\n",
    "if missing_columns:\n",
    "    print(f\"Missing columns in the DataFrame: {missing_columns}\")\n",
    "else:\n",
    "    # Plotting the stacked bar chart\n",
    "    view_medal_dist[columns_to_plot].plot(kind='bar', stacked=True, figsize=(15, 8), \n",
    "                                                color=['gold', 'silver', 'brown'])\n",
    "    plt.title('Distribution of Medals by Sport')\n",
    "    plt.xlabel('Sport')\n",
    "    plt.ylabel('Number of Medals')\n",
    "    plt.legend(title='Medal')\n",
    "    plt.show()"
   ]
  },
  {
   "cell_type": "markdown",
   "id": "7a211c21",
   "metadata": {},
   "source": [
    "## Interactive Dashboard using PyGWalker module"
   ]
  },
  {
   "cell_type": "code",
   "execution_count": null,
   "id": "f903e6b7",
   "metadata": {},
   "outputs": [],
   "source": [
    "import pandas as pd\n",
    "import pygwalker as pyg\n",
    "# Create an interactive visualization using PyGWalker\n",
    "pyg.walk(df)"
   ]
  },
  {
   "cell_type": "markdown",
   "id": "d8e1ec63",
   "metadata": {},
   "source": [
    "## Generate Interactive Report using Sweetviz Module"
   ]
  },
  {
   "cell_type": "code",
   "execution_count": null,
   "id": "3461db32",
   "metadata": {},
   "outputs": [],
   "source": [
    "df = pd.read_csv('summer.csv')\n",
    "\n",
    "import sweetviz as sv\n",
    "\n",
    "# Generate a Sweetviz report\n",
    "report = sv.analyze(df)\n",
    "report.show_html('Summer_Olympics_Report.html') "
   ]
  }
 ],
 "metadata": {
  "kernelspec": {
   "display_name": "Python 3 (ipykernel)",
   "language": "python",
   "name": "python3"
  },
  "language_info": {
   "codemirror_mode": {
    "name": "ipython",
    "version": 3
   },
   "file_extension": ".py",
   "mimetype": "text/x-python",
   "name": "python",
   "nbconvert_exporter": "python",
   "pygments_lexer": "ipython3",
   "version": "3.12.3"
  }
 },
 "nbformat": 4,
 "nbformat_minor": 5
}

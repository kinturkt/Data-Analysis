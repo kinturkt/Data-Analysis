{
 "cells": [
  {
   "cell_type": "code",
   "execution_count": 2,
   "metadata": {},
   "outputs": [],
   "source": [
    "import numpy as np\n",
    "import pandas as pd\n",
    "import matplotlib.pyplot as plt\n",
    "import seaborn as sns\n",
    "import warnings\n",
    "warnings.filterwarnings('ignore')"
   ]
  },
  {
   "cell_type": "code",
   "execution_count": 3,
   "metadata": {},
   "outputs": [],
   "source": [
    "crime_data = pd.read_csv('Datasets/cyber_crime.csv')"
   ]
  },
  {
   "cell_type": "code",
   "execution_count": 6,
   "metadata": {},
   "outputs": [
    {
     "data": {
      "text/html": [
       "<div>\n",
       "<style scoped>\n",
       "    .dataframe tbody tr th:only-of-type {\n",
       "        vertical-align: middle;\n",
       "    }\n",
       "\n",
       "    .dataframe tbody tr th {\n",
       "        vertical-align: top;\n",
       "    }\n",
       "\n",
       "    .dataframe thead th {\n",
       "        text-align: right;\n",
       "    }\n",
       "</style>\n",
       "<table border=\"1\" class=\"dataframe\">\n",
       "  <thead>\n",
       "    <tr style=\"text-align: right;\">\n",
       "      <th></th>\n",
       "      <th>S. No</th>\n",
       "      <th>Category</th>\n",
       "      <th>State/UT</th>\n",
       "      <th>2016</th>\n",
       "      <th>2017</th>\n",
       "      <th>2018</th>\n",
       "      <th>Percentage Share of State/UT (2018)</th>\n",
       "      <th>Mid-Year Projected Population (in Lakhs) (2018)+</th>\n",
       "      <th>Rate of Total Cyber Crimes (2018)++</th>\n",
       "    </tr>\n",
       "  </thead>\n",
       "  <tbody>\n",
       "    <tr>\n",
       "      <th>0</th>\n",
       "      <td>1</td>\n",
       "      <td>State</td>\n",
       "      <td>Andhra Pradesh</td>\n",
       "      <td>616</td>\n",
       "      <td>931</td>\n",
       "      <td>1207</td>\n",
       "      <td>4.4</td>\n",
       "      <td>520.3</td>\n",
       "      <td>2.3</td>\n",
       "    </tr>\n",
       "    <tr>\n",
       "      <th>1</th>\n",
       "      <td>2</td>\n",
       "      <td>State</td>\n",
       "      <td>Arunachal Pradesh</td>\n",
       "      <td>4</td>\n",
       "      <td>1</td>\n",
       "      <td>7</td>\n",
       "      <td>0.0</td>\n",
       "      <td>14.9</td>\n",
       "      <td>0.5</td>\n",
       "    </tr>\n",
       "    <tr>\n",
       "      <th>2</th>\n",
       "      <td>3</td>\n",
       "      <td>State</td>\n",
       "      <td>Assam</td>\n",
       "      <td>696</td>\n",
       "      <td>1120</td>\n",
       "      <td>2022</td>\n",
       "      <td>7.4</td>\n",
       "      <td>340.4</td>\n",
       "      <td>5.9</td>\n",
       "    </tr>\n",
       "    <tr>\n",
       "      <th>3</th>\n",
       "      <td>4</td>\n",
       "      <td>State</td>\n",
       "      <td>Bihar</td>\n",
       "      <td>309</td>\n",
       "      <td>433</td>\n",
       "      <td>374</td>\n",
       "      <td>1.4</td>\n",
       "      <td>1183.3</td>\n",
       "      <td>0.3</td>\n",
       "    </tr>\n",
       "    <tr>\n",
       "      <th>4</th>\n",
       "      <td>5</td>\n",
       "      <td>State</td>\n",
       "      <td>Chhattisgarh</td>\n",
       "      <td>90</td>\n",
       "      <td>171</td>\n",
       "      <td>139</td>\n",
       "      <td>0.5</td>\n",
       "      <td>284.7</td>\n",
       "      <td>0.5</td>\n",
       "    </tr>\n",
       "    <tr>\n",
       "      <th>5</th>\n",
       "      <td>6</td>\n",
       "      <td>State</td>\n",
       "      <td>Goa</td>\n",
       "      <td>31</td>\n",
       "      <td>13</td>\n",
       "      <td>29</td>\n",
       "      <td>0.1</td>\n",
       "      <td>15.3</td>\n",
       "      <td>1.9</td>\n",
       "    </tr>\n",
       "    <tr>\n",
       "      <th>6</th>\n",
       "      <td>7</td>\n",
       "      <td>State</td>\n",
       "      <td>Gujarat</td>\n",
       "      <td>362</td>\n",
       "      <td>458</td>\n",
       "      <td>702</td>\n",
       "      <td>2.6</td>\n",
       "      <td>673.2</td>\n",
       "      <td>1.0</td>\n",
       "    </tr>\n",
       "    <tr>\n",
       "      <th>7</th>\n",
       "      <td>8</td>\n",
       "      <td>State</td>\n",
       "      <td>Haryana</td>\n",
       "      <td>401</td>\n",
       "      <td>504</td>\n",
       "      <td>418</td>\n",
       "      <td>1.5</td>\n",
       "      <td>284.0</td>\n",
       "      <td>1.5</td>\n",
       "    </tr>\n",
       "    <tr>\n",
       "      <th>8</th>\n",
       "      <td>9</td>\n",
       "      <td>State</td>\n",
       "      <td>Himachal Pradesh</td>\n",
       "      <td>31</td>\n",
       "      <td>56</td>\n",
       "      <td>69</td>\n",
       "      <td>0.3</td>\n",
       "      <td>72.7</td>\n",
       "      <td>0.9</td>\n",
       "    </tr>\n",
       "    <tr>\n",
       "      <th>9</th>\n",
       "      <td>10</td>\n",
       "      <td>State</td>\n",
       "      <td>Jammu &amp; Kashmir</td>\n",
       "      <td>28</td>\n",
       "      <td>63</td>\n",
       "      <td>73</td>\n",
       "      <td>0.3</td>\n",
       "      <td>134.3</td>\n",
       "      <td>0.5</td>\n",
       "    </tr>\n",
       "  </tbody>\n",
       "</table>\n",
       "</div>"
      ],
      "text/plain": [
       "  S. No Category           State/UT  2016  2017  2018  \\\n",
       "0     1    State     Andhra Pradesh   616   931  1207   \n",
       "1     2    State  Arunachal Pradesh     4     1     7   \n",
       "2     3    State              Assam   696  1120  2022   \n",
       "3     4    State              Bihar   309   433   374   \n",
       "4     5    State       Chhattisgarh    90   171   139   \n",
       "5     6    State                Goa    31    13    29   \n",
       "6     7    State            Gujarat   362   458   702   \n",
       "7     8    State            Haryana   401   504   418   \n",
       "8     9    State   Himachal Pradesh    31    56    69   \n",
       "9    10    State    Jammu & Kashmir    28    63    73   \n",
       "\n",
       "   Percentage Share of State/UT (2018)  \\\n",
       "0                                  4.4   \n",
       "1                                  0.0   \n",
       "2                                  7.4   \n",
       "3                                  1.4   \n",
       "4                                  0.5   \n",
       "5                                  0.1   \n",
       "6                                  2.6   \n",
       "7                                  1.5   \n",
       "8                                  0.3   \n",
       "9                                  0.3   \n",
       "\n",
       "   Mid-Year Projected Population (in Lakhs) (2018)+  \\\n",
       "0                                             520.3   \n",
       "1                                              14.9   \n",
       "2                                             340.4   \n",
       "3                                            1183.3   \n",
       "4                                             284.7   \n",
       "5                                              15.3   \n",
       "6                                             673.2   \n",
       "7                                             284.0   \n",
       "8                                              72.7   \n",
       "9                                             134.3   \n",
       "\n",
       "   Rate of Total Cyber Crimes (2018)++  \n",
       "0                                  2.3  \n",
       "1                                  0.5  \n",
       "2                                  5.9  \n",
       "3                                  0.3  \n",
       "4                                  0.5  \n",
       "5                                  1.9  \n",
       "6                                  1.0  \n",
       "7                                  1.5  \n",
       "8                                  0.9  \n",
       "9                                  0.5  "
      ]
     },
     "execution_count": 6,
     "metadata": {},
     "output_type": "execute_result"
    }
   ],
   "source": [
    "crime_data.head(10)"
   ]
  },
  {
   "cell_type": "code",
   "execution_count": 5,
   "metadata": {},
   "outputs": [
    {
     "data": {
      "text/html": [
       "<div>\n",
       "<style scoped>\n",
       "    .dataframe tbody tr th:only-of-type {\n",
       "        vertical-align: middle;\n",
       "    }\n",
       "\n",
       "    .dataframe tbody tr th {\n",
       "        vertical-align: top;\n",
       "    }\n",
       "\n",
       "    .dataframe thead th {\n",
       "        text-align: right;\n",
       "    }\n",
       "</style>\n",
       "<table border=\"1\" class=\"dataframe\">\n",
       "  <thead>\n",
       "    <tr style=\"text-align: right;\">\n",
       "      <th></th>\n",
       "      <th>S. No</th>\n",
       "      <th>Category</th>\n",
       "      <th>State/UT</th>\n",
       "      <th>2016</th>\n",
       "      <th>2017</th>\n",
       "      <th>2018</th>\n",
       "      <th>Percentage Share of State/UT (2018)</th>\n",
       "      <th>Mid-Year Projected Population (in Lakhs) (2018)+</th>\n",
       "      <th>Rate of Total Cyber Crimes (2018)++</th>\n",
       "    </tr>\n",
       "  </thead>\n",
       "  <tbody>\n",
       "    <tr>\n",
       "      <th>34</th>\n",
       "      <td>34</td>\n",
       "      <td>Union Territory</td>\n",
       "      <td>Delhi UT</td>\n",
       "      <td>98</td>\n",
       "      <td>162</td>\n",
       "      <td>189</td>\n",
       "      <td>0.7</td>\n",
       "      <td>195.6</td>\n",
       "      <td>1.0</td>\n",
       "    </tr>\n",
       "    <tr>\n",
       "      <th>35</th>\n",
       "      <td>35</td>\n",
       "      <td>Union Territory</td>\n",
       "      <td>Lakshadweep</td>\n",
       "      <td>0</td>\n",
       "      <td>0</td>\n",
       "      <td>4</td>\n",
       "      <td>0.0</td>\n",
       "      <td>0.7</td>\n",
       "      <td>6.0</td>\n",
       "    </tr>\n",
       "    <tr>\n",
       "      <th>36</th>\n",
       "      <td>36</td>\n",
       "      <td>Union Territory</td>\n",
       "      <td>Puducherry</td>\n",
       "      <td>2</td>\n",
       "      <td>5</td>\n",
       "      <td>14</td>\n",
       "      <td>0.1</td>\n",
       "      <td>14.8</td>\n",
       "      <td>0.9</td>\n",
       "    </tr>\n",
       "    <tr>\n",
       "      <th>37</th>\n",
       "      <td>Union Territory</td>\n",
       "      <td>Union Territory</td>\n",
       "      <td>Total UT(s)</td>\n",
       "      <td>130</td>\n",
       "      <td>203</td>\n",
       "      <td>244</td>\n",
       "      <td>0.9</td>\n",
       "      <td>236.0</td>\n",
       "      <td>1.0</td>\n",
       "    </tr>\n",
       "    <tr>\n",
       "      <th>38</th>\n",
       "      <td>Total (All India)</td>\n",
       "      <td>Total (All India)</td>\n",
       "      <td>Total (All India)</td>\n",
       "      <td>12317</td>\n",
       "      <td>21796</td>\n",
       "      <td>27248</td>\n",
       "      <td>100.0</td>\n",
       "      <td>13233.8</td>\n",
       "      <td>2.1</td>\n",
       "    </tr>\n",
       "  </tbody>\n",
       "</table>\n",
       "</div>"
      ],
      "text/plain": [
       "                S. No           Category           State/UT   2016   2017  \\\n",
       "34                 34    Union Territory           Delhi UT     98    162   \n",
       "35                 35    Union Territory        Lakshadweep      0      0   \n",
       "36                 36    Union Territory         Puducherry      2      5   \n",
       "37    Union Territory    Union Territory        Total UT(s)    130    203   \n",
       "38  Total (All India)  Total (All India)  Total (All India)  12317  21796   \n",
       "\n",
       "     2018  Percentage Share of State/UT (2018)  \\\n",
       "34    189                                  0.7   \n",
       "35      4                                  0.0   \n",
       "36     14                                  0.1   \n",
       "37    244                                  0.9   \n",
       "38  27248                                100.0   \n",
       "\n",
       "    Mid-Year Projected Population (in Lakhs) (2018)+  \\\n",
       "34                                             195.6   \n",
       "35                                               0.7   \n",
       "36                                              14.8   \n",
       "37                                             236.0   \n",
       "38                                           13233.8   \n",
       "\n",
       "    Rate of Total Cyber Crimes (2018)++  \n",
       "34                                  1.0  \n",
       "35                                  6.0  \n",
       "36                                  0.9  \n",
       "37                                  1.0  \n",
       "38                                  2.1  "
      ]
     },
     "execution_count": 5,
     "metadata": {},
     "output_type": "execute_result"
    }
   ],
   "source": [
    "crime_data.tail()"
   ]
  },
  {
   "cell_type": "code",
   "execution_count": 7,
   "metadata": {},
   "outputs": [
    {
     "name": "stdout",
     "output_type": "stream",
     "text": [
      "<class 'pandas.core.frame.DataFrame'>\n",
      "RangeIndex: 39 entries, 0 to 38\n",
      "Data columns (total 9 columns):\n",
      " #   Column                                            Non-Null Count  Dtype  \n",
      "---  ------                                            --------------  -----  \n",
      " 0   S. No                                             39 non-null     object \n",
      " 1   Category                                          39 non-null     object \n",
      " 2   State/UT                                          39 non-null     object \n",
      " 3   2016                                              39 non-null     int64  \n",
      " 4   2017                                              39 non-null     int64  \n",
      " 5   2018                                              39 non-null     int64  \n",
      " 6   Percentage Share of State/UT (2018)               39 non-null     float64\n",
      " 7   Mid-Year Projected Population (in Lakhs) (2018)+  39 non-null     float64\n",
      " 8   Rate of Total Cyber Crimes (2018)++               39 non-null     float64\n",
      "dtypes: float64(3), int64(3), object(3)\n",
      "memory usage: 2.9+ KB\n"
     ]
    }
   ],
   "source": [
    "crime_data.info()"
   ]
  },
  {
   "cell_type": "code",
   "execution_count": 8,
   "metadata": {},
   "outputs": [
    {
     "data": {
      "text/html": [
       "<div>\n",
       "<style scoped>\n",
       "    .dataframe tbody tr th:only-of-type {\n",
       "        vertical-align: middle;\n",
       "    }\n",
       "\n",
       "    .dataframe tbody tr th {\n",
       "        vertical-align: top;\n",
       "    }\n",
       "\n",
       "    .dataframe thead th {\n",
       "        text-align: right;\n",
       "    }\n",
       "</style>\n",
       "<table border=\"1\" class=\"dataframe\">\n",
       "  <thead>\n",
       "    <tr style=\"text-align: right;\">\n",
       "      <th></th>\n",
       "      <th>2016</th>\n",
       "      <th>2017</th>\n",
       "      <th>2018</th>\n",
       "      <th>Percentage Share of State/UT (2018)</th>\n",
       "      <th>Mid-Year Projected Population (in Lakhs) (2018)+</th>\n",
       "      <th>Rate of Total Cyber Crimes (2018)++</th>\n",
       "    </tr>\n",
       "  </thead>\n",
       "  <tbody>\n",
       "    <tr>\n",
       "      <th>count</th>\n",
       "      <td>39.000000</td>\n",
       "      <td>39.000000</td>\n",
       "      <td>39.000000</td>\n",
       "      <td>39.000000</td>\n",
       "      <td>39.000000</td>\n",
       "      <td>39.000000</td>\n",
       "    </tr>\n",
       "    <tr>\n",
       "      <th>mean</th>\n",
       "      <td>947.461538</td>\n",
       "      <td>1676.615385</td>\n",
       "      <td>2096.000000</td>\n",
       "      <td>7.689744</td>\n",
       "      <td>1017.987179</td>\n",
       "      <td>1.689744</td>\n",
       "    </tr>\n",
       "    <tr>\n",
       "      <th>std</th>\n",
       "      <td>2724.974532</td>\n",
       "      <td>4832.658115</td>\n",
       "      <td>6065.161416</td>\n",
       "      <td>22.257391</td>\n",
       "      <td>2885.991893</td>\n",
       "      <td>1.811193</td>\n",
       "    </tr>\n",
       "    <tr>\n",
       "      <th>min</th>\n",
       "      <td>0.000000</td>\n",
       "      <td>0.000000</td>\n",
       "      <td>0.000000</td>\n",
       "      <td>0.000000</td>\n",
       "      <td>0.700000</td>\n",
       "      <td>0.000000</td>\n",
       "    </tr>\n",
       "    <tr>\n",
       "      <th>25%</th>\n",
       "      <td>9.500000</td>\n",
       "      <td>11.500000</td>\n",
       "      <td>24.500000</td>\n",
       "      <td>0.100000</td>\n",
       "      <td>18.300000</td>\n",
       "      <td>0.500000</td>\n",
       "    </tr>\n",
       "    <tr>\n",
       "      <th>50%</th>\n",
       "      <td>102.000000</td>\n",
       "      <td>176.000000</td>\n",
       "      <td>239.000000</td>\n",
       "      <td>0.900000</td>\n",
       "      <td>284.000000</td>\n",
       "      <td>1.000000</td>\n",
       "    </tr>\n",
       "    <tr>\n",
       "      <th>75%</th>\n",
       "      <td>439.500000</td>\n",
       "      <td>772.000000</td>\n",
       "      <td>886.500000</td>\n",
       "      <td>3.250000</td>\n",
       "      <td>663.850000</td>\n",
       "      <td>2.200000</td>\n",
       "    </tr>\n",
       "    <tr>\n",
       "      <th>max</th>\n",
       "      <td>12317.000000</td>\n",
       "      <td>21796.000000</td>\n",
       "      <td>27248.000000</td>\n",
       "      <td>100.000000</td>\n",
       "      <td>13233.800000</td>\n",
       "      <td>8.900000</td>\n",
       "    </tr>\n",
       "  </tbody>\n",
       "</table>\n",
       "</div>"
      ],
      "text/plain": [
       "               2016          2017          2018  \\\n",
       "count     39.000000     39.000000     39.000000   \n",
       "mean     947.461538   1676.615385   2096.000000   \n",
       "std     2724.974532   4832.658115   6065.161416   \n",
       "min        0.000000      0.000000      0.000000   \n",
       "25%        9.500000     11.500000     24.500000   \n",
       "50%      102.000000    176.000000    239.000000   \n",
       "75%      439.500000    772.000000    886.500000   \n",
       "max    12317.000000  21796.000000  27248.000000   \n",
       "\n",
       "       Percentage Share of State/UT (2018)  \\\n",
       "count                            39.000000   \n",
       "mean                              7.689744   \n",
       "std                              22.257391   \n",
       "min                               0.000000   \n",
       "25%                               0.100000   \n",
       "50%                               0.900000   \n",
       "75%                               3.250000   \n",
       "max                             100.000000   \n",
       "\n",
       "       Mid-Year Projected Population (in Lakhs) (2018)+  \\\n",
       "count                                         39.000000   \n",
       "mean                                        1017.987179   \n",
       "std                                         2885.991893   \n",
       "min                                            0.700000   \n",
       "25%                                           18.300000   \n",
       "50%                                          284.000000   \n",
       "75%                                          663.850000   \n",
       "max                                        13233.800000   \n",
       "\n",
       "       Rate of Total Cyber Crimes (2018)++  \n",
       "count                            39.000000  \n",
       "mean                              1.689744  \n",
       "std                               1.811193  \n",
       "min                               0.000000  \n",
       "25%                               0.500000  \n",
       "50%                               1.000000  \n",
       "75%                               2.200000  \n",
       "max                               8.900000  "
      ]
     },
     "execution_count": 8,
     "metadata": {},
     "output_type": "execute_result"
    }
   ],
   "source": [
    "crime_data.describe()"
   ]
  },
  {
   "cell_type": "code",
   "execution_count": 10,
   "metadata": {},
   "outputs": [
    {
     "data": {
      "text/plain": [
       "(39, 9)"
      ]
     },
     "execution_count": 10,
     "metadata": {},
     "output_type": "execute_result"
    }
   ],
   "source": [
    "crime_data.shape"
   ]
  },
  {
   "cell_type": "code",
   "execution_count": 11,
   "metadata": {},
   "outputs": [
    {
     "data": {
      "text/plain": [
       "S. No                                               0\n",
       "Category                                            0\n",
       "State/UT                                            0\n",
       "2016                                                0\n",
       "2017                                                0\n",
       "2018                                                0\n",
       "Percentage Share of State/UT (2018)                 0\n",
       "Mid-Year Projected Population (in Lakhs) (2018)+    0\n",
       "Rate of Total Cyber Crimes (2018)++                 0\n",
       "dtype: int64"
      ]
     },
     "execution_count": 11,
     "metadata": {},
     "output_type": "execute_result"
    }
   ],
   "source": [
    "crime_data.isnull().sum()"
   ]
  },
  {
   "cell_type": "code",
   "execution_count": 12,
   "metadata": {},
   "outputs": [
    {
     "data": {
      "text/plain": [
       "S. No                                               39\n",
       "Category                                             3\n",
       "State/UT                                            39\n",
       "2016                                                34\n",
       "2017                                                35\n",
       "2018                                                36\n",
       "Percentage Share of State/UT (2018)                 23\n",
       "Mid-Year Projected Population (in Lakhs) (2018)+    38\n",
       "Rate of Total Cyber Crimes (2018)++                 23\n",
       "dtype: int64"
      ]
     },
     "execution_count": 12,
     "metadata": {},
     "output_type": "execute_result"
    }
   ],
   "source": [
    "crime_data.nunique()"
   ]
  },
  {
   "cell_type": "code",
   "execution_count": 13,
   "metadata": {},
   "outputs": [
    {
     "data": {
      "text/plain": [
       "array(['State', 'Union Territory', 'Total (All India)'], dtype=object)"
      ]
     },
     "execution_count": 13,
     "metadata": {},
     "output_type": "execute_result"
    }
   ],
   "source": [
    "crime_data['Category'].unique()"
   ]
  },
  {
   "cell_type": "code",
   "execution_count": 14,
   "metadata": {},
   "outputs": [
    {
     "data": {
      "text/plain": [
       "State                30\n",
       "Union Territory       8\n",
       "Total (All India)     1\n",
       "Name: Category, dtype: int64"
      ]
     },
     "execution_count": 14,
     "metadata": {},
     "output_type": "execute_result"
    }
   ],
   "source": [
    "crime_data['Category'].value_counts()"
   ]
  },
  {
   "cell_type": "code",
   "execution_count": 15,
   "metadata": {},
   "outputs": [
    {
     "data": {
      "text/html": [
       "<div>\n",
       "<style scoped>\n",
       "    .dataframe tbody tr th:only-of-type {\n",
       "        vertical-align: middle;\n",
       "    }\n",
       "\n",
       "    .dataframe tbody tr th {\n",
       "        vertical-align: top;\n",
       "    }\n",
       "\n",
       "    .dataframe thead th {\n",
       "        text-align: right;\n",
       "    }\n",
       "</style>\n",
       "<table border=\"1\" class=\"dataframe\">\n",
       "  <thead>\n",
       "    <tr style=\"text-align: right;\">\n",
       "      <th></th>\n",
       "      <th>2016</th>\n",
       "      <th>2017</th>\n",
       "      <th>2018</th>\n",
       "      <th>Percentage Share of State/UT (2018)</th>\n",
       "      <th>Mid-Year Projected Population (in Lakhs) (2018)+</th>\n",
       "      <th>Rate of Total Cyber Crimes (2018)++</th>\n",
       "    </tr>\n",
       "  </thead>\n",
       "  <tbody>\n",
       "    <tr>\n",
       "      <th>2016</th>\n",
       "      <td>1.00000</td>\n",
       "      <td>0.998590</td>\n",
       "      <td>0.993830</td>\n",
       "      <td>0.993860</td>\n",
       "      <td>0.992970</td>\n",
       "      <td>0.136820</td>\n",
       "    </tr>\n",
       "    <tr>\n",
       "      <th>2017</th>\n",
       "      <td>0.99859</td>\n",
       "      <td>1.000000</td>\n",
       "      <td>0.998014</td>\n",
       "      <td>0.998030</td>\n",
       "      <td>0.991394</td>\n",
       "      <td>0.164416</td>\n",
       "    </tr>\n",
       "    <tr>\n",
       "      <th>2018</th>\n",
       "      <td>0.99383</td>\n",
       "      <td>0.998014</td>\n",
       "      <td>1.000000</td>\n",
       "      <td>0.999999</td>\n",
       "      <td>0.986735</td>\n",
       "      <td>0.200750</td>\n",
       "    </tr>\n",
       "    <tr>\n",
       "      <th>Percentage Share of State/UT (2018)</th>\n",
       "      <td>0.99386</td>\n",
       "      <td>0.998030</td>\n",
       "      <td>0.999999</td>\n",
       "      <td>1.000000</td>\n",
       "      <td>0.986789</td>\n",
       "      <td>0.200419</td>\n",
       "    </tr>\n",
       "    <tr>\n",
       "      <th>Mid-Year Projected Population (in Lakhs) (2018)+</th>\n",
       "      <td>0.99297</td>\n",
       "      <td>0.991394</td>\n",
       "      <td>0.986735</td>\n",
       "      <td>0.986789</td>\n",
       "      <td>1.000000</td>\n",
       "      <td>0.077051</td>\n",
       "    </tr>\n",
       "    <tr>\n",
       "      <th>Rate of Total Cyber Crimes (2018)++</th>\n",
       "      <td>0.13682</td>\n",
       "      <td>0.164416</td>\n",
       "      <td>0.200750</td>\n",
       "      <td>0.200419</td>\n",
       "      <td>0.077051</td>\n",
       "      <td>1.000000</td>\n",
       "    </tr>\n",
       "  </tbody>\n",
       "</table>\n",
       "</div>"
      ],
      "text/plain": [
       "                                                     2016      2017      2018  \\\n",
       "2016                                              1.00000  0.998590  0.993830   \n",
       "2017                                              0.99859  1.000000  0.998014   \n",
       "2018                                              0.99383  0.998014  1.000000   \n",
       "Percentage Share of State/UT (2018)               0.99386  0.998030  0.999999   \n",
       "Mid-Year Projected Population (in Lakhs) (2018)+  0.99297  0.991394  0.986735   \n",
       "Rate of Total Cyber Crimes (2018)++               0.13682  0.164416  0.200750   \n",
       "\n",
       "                                                  Percentage Share of State/UT (2018)  \\\n",
       "2016                                                                         0.993860   \n",
       "2017                                                                         0.998030   \n",
       "2018                                                                         0.999999   \n",
       "Percentage Share of State/UT (2018)                                          1.000000   \n",
       "Mid-Year Projected Population (in Lakhs) (2018)+                             0.986789   \n",
       "Rate of Total Cyber Crimes (2018)++                                          0.200419   \n",
       "\n",
       "                                                  Mid-Year Projected Population (in Lakhs) (2018)+  \\\n",
       "2016                                                                                      0.992970   \n",
       "2017                                                                                      0.991394   \n",
       "2018                                                                                      0.986735   \n",
       "Percentage Share of State/UT (2018)                                                       0.986789   \n",
       "Mid-Year Projected Population (in Lakhs) (2018)+                                          1.000000   \n",
       "Rate of Total Cyber Crimes (2018)++                                                       0.077051   \n",
       "\n",
       "                                                  Rate of Total Cyber Crimes (2018)++  \n",
       "2016                                                                         0.136820  \n",
       "2017                                                                         0.164416  \n",
       "2018                                                                         0.200750  \n",
       "Percentage Share of State/UT (2018)                                          0.200419  \n",
       "Mid-Year Projected Population (in Lakhs) (2018)+                             0.077051  \n",
       "Rate of Total Cyber Crimes (2018)++                                          1.000000  "
      ]
     },
     "execution_count": 15,
     "metadata": {},
     "output_type": "execute_result"
    }
   ],
   "source": [
    "crime_data.corr()\t"
   ]
  },
  {
   "cell_type": "code",
   "execution_count": 16,
   "metadata": {},
   "outputs": [
    {
     "data": {
      "text/html": [
       "<style type=\"text/css\">\n",
       "#T_df1c1_row0_col0, #T_df1c1_row0_col1, #T_df1c1_row1_col0, #T_df1c1_row1_col1, #T_df1c1_row1_col2, #T_df1c1_row1_col3, #T_df1c1_row2_col1, #T_df1c1_row2_col2, #T_df1c1_row2_col3, #T_df1c1_row3_col1, #T_df1c1_row3_col2, #T_df1c1_row3_col3, #T_df1c1_row4_col4, #T_df1c1_row5_col5 {\n",
       "  background-color: #b40426;\n",
       "  color: #f1f1f1;\n",
       "}\n",
       "#T_df1c1_row0_col2, #T_df1c1_row0_col3, #T_df1c1_row0_col4, #T_df1c1_row2_col0, #T_df1c1_row3_col0 {\n",
       "  background-color: #b50927;\n",
       "  color: #f1f1f1;\n",
       "}\n",
       "#T_df1c1_row0_col5 {\n",
       "  background-color: #4e68d8;\n",
       "  color: #f1f1f1;\n",
       "}\n",
       "#T_df1c1_row1_col4, #T_df1c1_row4_col0, #T_df1c1_row4_col1 {\n",
       "  background-color: #b70d28;\n",
       "  color: #f1f1f1;\n",
       "}\n",
       "#T_df1c1_row1_col5 {\n",
       "  background-color: #5875e1;\n",
       "  color: #f1f1f1;\n",
       "}\n",
       "#T_df1c1_row2_col4, #T_df1c1_row3_col4 {\n",
       "  background-color: #b8122a;\n",
       "  color: #f1f1f1;\n",
       "}\n",
       "#T_df1c1_row2_col5, #T_df1c1_row3_col5 {\n",
       "  background-color: #6485ec;\n",
       "  color: #f1f1f1;\n",
       "}\n",
       "#T_df1c1_row4_col2, #T_df1c1_row4_col3 {\n",
       "  background-color: #ba162b;\n",
       "  color: #f1f1f1;\n",
       "}\n",
       "#T_df1c1_row4_col5, #T_df1c1_row5_col0, #T_df1c1_row5_col1, #T_df1c1_row5_col2, #T_df1c1_row5_col3, #T_df1c1_row5_col4 {\n",
       "  background-color: #3b4cc0;\n",
       "  color: #f1f1f1;\n",
       "}\n",
       "</style>\n",
       "<table id=\"T_df1c1_\">\n",
       "  <thead>\n",
       "    <tr>\n",
       "      <th class=\"blank level0\" >&nbsp;</th>\n",
       "      <th class=\"col_heading level0 col0\" >2016</th>\n",
       "      <th class=\"col_heading level0 col1\" >2017</th>\n",
       "      <th class=\"col_heading level0 col2\" >2018</th>\n",
       "      <th class=\"col_heading level0 col3\" >Percentage Share of State/UT (2018)</th>\n",
       "      <th class=\"col_heading level0 col4\" >Mid-Year Projected Population (in Lakhs) (2018)+</th>\n",
       "      <th class=\"col_heading level0 col5\" >Rate of Total Cyber Crimes (2018)++</th>\n",
       "    </tr>\n",
       "  </thead>\n",
       "  <tbody>\n",
       "    <tr>\n",
       "      <th id=\"T_df1c1_level0_row0\" class=\"row_heading level0 row0\" >2016</th>\n",
       "      <td id=\"T_df1c1_row0_col0\" class=\"data row0 col0\" >1.000000</td>\n",
       "      <td id=\"T_df1c1_row0_col1\" class=\"data row0 col1\" >0.998590</td>\n",
       "      <td id=\"T_df1c1_row0_col2\" class=\"data row0 col2\" >0.993830</td>\n",
       "      <td id=\"T_df1c1_row0_col3\" class=\"data row0 col3\" >0.993860</td>\n",
       "      <td id=\"T_df1c1_row0_col4\" class=\"data row0 col4\" >0.992970</td>\n",
       "      <td id=\"T_df1c1_row0_col5\" class=\"data row0 col5\" >0.136820</td>\n",
       "    </tr>\n",
       "    <tr>\n",
       "      <th id=\"T_df1c1_level0_row1\" class=\"row_heading level0 row1\" >2017</th>\n",
       "      <td id=\"T_df1c1_row1_col0\" class=\"data row1 col0\" >0.998590</td>\n",
       "      <td id=\"T_df1c1_row1_col1\" class=\"data row1 col1\" >1.000000</td>\n",
       "      <td id=\"T_df1c1_row1_col2\" class=\"data row1 col2\" >0.998014</td>\n",
       "      <td id=\"T_df1c1_row1_col3\" class=\"data row1 col3\" >0.998030</td>\n",
       "      <td id=\"T_df1c1_row1_col4\" class=\"data row1 col4\" >0.991394</td>\n",
       "      <td id=\"T_df1c1_row1_col5\" class=\"data row1 col5\" >0.164416</td>\n",
       "    </tr>\n",
       "    <tr>\n",
       "      <th id=\"T_df1c1_level0_row2\" class=\"row_heading level0 row2\" >2018</th>\n",
       "      <td id=\"T_df1c1_row2_col0\" class=\"data row2 col0\" >0.993830</td>\n",
       "      <td id=\"T_df1c1_row2_col1\" class=\"data row2 col1\" >0.998014</td>\n",
       "      <td id=\"T_df1c1_row2_col2\" class=\"data row2 col2\" >1.000000</td>\n",
       "      <td id=\"T_df1c1_row2_col3\" class=\"data row2 col3\" >0.999999</td>\n",
       "      <td id=\"T_df1c1_row2_col4\" class=\"data row2 col4\" >0.986735</td>\n",
       "      <td id=\"T_df1c1_row2_col5\" class=\"data row2 col5\" >0.200750</td>\n",
       "    </tr>\n",
       "    <tr>\n",
       "      <th id=\"T_df1c1_level0_row3\" class=\"row_heading level0 row3\" >Percentage Share of State/UT (2018)</th>\n",
       "      <td id=\"T_df1c1_row3_col0\" class=\"data row3 col0\" >0.993860</td>\n",
       "      <td id=\"T_df1c1_row3_col1\" class=\"data row3 col1\" >0.998030</td>\n",
       "      <td id=\"T_df1c1_row3_col2\" class=\"data row3 col2\" >0.999999</td>\n",
       "      <td id=\"T_df1c1_row3_col3\" class=\"data row3 col3\" >1.000000</td>\n",
       "      <td id=\"T_df1c1_row3_col4\" class=\"data row3 col4\" >0.986789</td>\n",
       "      <td id=\"T_df1c1_row3_col5\" class=\"data row3 col5\" >0.200419</td>\n",
       "    </tr>\n",
       "    <tr>\n",
       "      <th id=\"T_df1c1_level0_row4\" class=\"row_heading level0 row4\" >Mid-Year Projected Population (in Lakhs) (2018)+</th>\n",
       "      <td id=\"T_df1c1_row4_col0\" class=\"data row4 col0\" >0.992970</td>\n",
       "      <td id=\"T_df1c1_row4_col1\" class=\"data row4 col1\" >0.991394</td>\n",
       "      <td id=\"T_df1c1_row4_col2\" class=\"data row4 col2\" >0.986735</td>\n",
       "      <td id=\"T_df1c1_row4_col3\" class=\"data row4 col3\" >0.986789</td>\n",
       "      <td id=\"T_df1c1_row4_col4\" class=\"data row4 col4\" >1.000000</td>\n",
       "      <td id=\"T_df1c1_row4_col5\" class=\"data row4 col5\" >0.077051</td>\n",
       "    </tr>\n",
       "    <tr>\n",
       "      <th id=\"T_df1c1_level0_row5\" class=\"row_heading level0 row5\" >Rate of Total Cyber Crimes (2018)++</th>\n",
       "      <td id=\"T_df1c1_row5_col0\" class=\"data row5 col0\" >0.136820</td>\n",
       "      <td id=\"T_df1c1_row5_col1\" class=\"data row5 col1\" >0.164416</td>\n",
       "      <td id=\"T_df1c1_row5_col2\" class=\"data row5 col2\" >0.200750</td>\n",
       "      <td id=\"T_df1c1_row5_col3\" class=\"data row5 col3\" >0.200419</td>\n",
       "      <td id=\"T_df1c1_row5_col4\" class=\"data row5 col4\" >0.077051</td>\n",
       "      <td id=\"T_df1c1_row5_col5\" class=\"data row5 col5\" >1.000000</td>\n",
       "    </tr>\n",
       "  </tbody>\n",
       "</table>\n"
      ],
      "text/plain": [
       "<pandas.io.formats.style.Styler at 0x20d6cc385b0>"
      ]
     },
     "execution_count": 16,
     "metadata": {},
     "output_type": "execute_result"
    }
   ],
   "source": [
    "crime_data.corr().style.background_gradient(cmap = 'coolwarm')"
   ]
  },
  {
   "cell_type": "code",
   "execution_count": 20,
   "metadata": {},
   "outputs": [],
   "source": [
    "crime_data = crime_data.drop(labels=[33, 34], axis=0)"
   ]
  },
  {
   "cell_type": "code",
   "execution_count": 21,
   "metadata": {},
   "outputs": [
    {
     "data": {
      "image/png": "[encoded data removed]",
      "text/plain": [
       "<Figure size 1080x432 with 1 Axes>"
      ]
     },
     "metadata": {
      "needs_background": "light"
     },
     "output_type": "display_data"
    }
   ],
   "source": [
    "plt.figure(figsize=(15,6))\n",
    "sns.barplot(x = 'Category', y = '2016', data = crime_data, palette='hls')\n",
    "plt.xticks(rotation = 90)\n",
    "plt.show()"
   ]
  },
  {
   "cell_type": "code",
   "execution_count": 23,
   "metadata": {},
   "outputs": [
    {
     "data": {
      "image/png": "[encoded data removed]",
      "text/plain": [
       "<Figure size 1080x432 with 1 Axes>"
      ]
     },
     "metadata": {
      "needs_background": "light"
     },
     "output_type": "display_data"
    }
   ],
   "source": [
    "plt.figure(figsize=(15,6))\n",
    "sns.barplot(x = 'State/UT', y = '2016', data = crime_data,palette='hls')\n",
    "plt.xticks(rotation = 90)\n",
    "plt.show()"
   ]
  },
  {
   "cell_type": "code",
   "execution_count": 25,
   "metadata": {},
   "outputs": [
    {
     "data": {
      "image/png": "[encoded data removed]",
      "text/plain": [
       "<Figure size 1080x432 with 1 Axes>"
      ]
     },
     "metadata": {
      "needs_background": "light"
     },
     "output_type": "display_data"
    }
   ],
   "source": [
    "plt.figure(figsize=(15,6))\n",
    "sns.barplot(x = 'State/UT', y = '2017', data = crime_data,palette='hls')\n",
    "plt.xticks(rotation = 90)\n",
    "plt.show()"
   ]
  },
  {
   "cell_type": "code",
   "execution_count": 30,
   "metadata": {},
   "outputs": [
    {
     "data": {
      "image/png": "[encoded data removed]",
      "text/plain": [
       "<Figure size 1080x432 with 1 Axes>"
      ]
     },
     "metadata": {
      "needs_background": "light"
     },
     "output_type": "display_data"
    }
   ],
   "source": [
    "plt.figure(figsize=(15,6))\n",
    "sns.barplot(x = 'Category', y = '2018', data = crime_data, palette='hls')\n",
    "plt.xticks(rotation = 45)\n",
    "plt.show()"
   ]
  },
  {
   "cell_type": "code",
   "execution_count": 29,
   "metadata": {},
   "outputs": [
    {
     "data": {
      "image/png": "[encoded data removed]",
      "text/plain": [
       "<Figure size 1080x432 with 1 Axes>"
      ]
     },
     "metadata": {
      "needs_background": "light"
     },
     "output_type": "display_data"
    }
   ],
   "source": [
    "plt.figure(figsize=(15,6))\n",
    "sns.barplot(x = 'State/UT', y = '2018', data = crime_data,palette='hls')\n",
    "plt.xticks(rotation = 90)\n",
    "plt.show()"
   ]
  }
 ],
 "metadata": {
  "kernelspec": {
   "display_name": "Python 3",
   "language": "python",
   "name": "python3"
  },
  "language_info": {
   "codemirror_mode": {
    "name": "ipython",
    "version": 3
   },
   "file_extension": ".py",
   "mimetype": "text/x-python",
   "name": "python",
   "nbconvert_exporter": "python",
   "pygments_lexer": "ipython3",
   "version": "3.9.13"
  },
  "orig_nbformat": 4
 },
 "nbformat": 4,
 "nbformat_minor": 2
}
